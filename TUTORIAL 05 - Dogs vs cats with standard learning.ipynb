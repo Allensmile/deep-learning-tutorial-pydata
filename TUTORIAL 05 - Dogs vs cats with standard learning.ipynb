{
 "cells": [
  {
   "cell_type": "markdown",
   "metadata": {},
   "source": [
    "# Dogs vs Cats with Standard Learning\n",
    "\n",
    "In this Notebook we're going to use transfer learning to attempt to crack the [Dogs vs Cats Kaggle competition](https://www.kaggle.com/c/dogs-vs-cats). This time, we will omit the use of the VGG-16 pretrained network.\n",
    "\n",
    "We are going to downsample the images to 64x64; that's pretty small, but should be enough (I hope). Furthermore, large images means longer training time and I'm too impatient for that. ;)"
   ]
  },
  {
   "cell_type": "markdown",
   "metadata": {},
   "source": [
    "Lets have plots appear inline:"
   ]
  },
  {
   "cell_type": "code",
   "execution_count": 1,
   "metadata": {
    "collapsed": true
   },
   "outputs": [],
   "source": [
    "%matplotlib inline"
   ]
  },
  {
   "cell_type": "markdown",
   "metadata": {},
   "source": [
    "We're going to need `os`, `numpy`, `matplotlib`, `skimage`, `theano` and `lasagne`. We also want to import some layer classes and utilities from Lasagne for convenience."
   ]
  },
  {
   "cell_type": "code",
   "execution_count": 2,
   "metadata": {
    "collapsed": false
   },
   "outputs": [
    {
     "name": "stderr",
     "output_type": "stream",
     "text": [
      "WARNING (theano.sandbox.cuda): The cuda backend is deprecated and will be removed in the next release (v0.10).  Please switch to the gpuarray backend. You can get more information about how to switch at this URL:\n",
      " https://github.com/Theano/Theano/wiki/Converting-to-the-new-gpu-back-end%28gpuarray%29\n",
      "\n",
      "Using gpu device 0: GeForce GTX 1080 (CNMeM is enabled with initial size: 25.0% of memory, cuDNN 5105)\n"
     ]
    }
   ],
   "source": [
    "import os, glob, time, tqdm\n",
    "import numpy as np\n",
    "from matplotlib import pyplot as plt\n",
    "import skimage, skimage.util, skimage.io, skimage.transform\n",
    "import theano\n",
    "import lasagne\n",
    "\n",
    "from lasagne.layers import InputLayer, DenseLayer, NonlinearityLayer, DropoutLayer, Pool2DLayer, Conv2DLayer\n",
    "from lasagne.nonlinearities import softmax\n",
    "from lasagne.utils import floatX\n"
   ]
  },
  {
   "cell_type": "markdown",
   "metadata": {},
   "source": [
    "Define functions for shuffling the dimensions between image order `(height, width, channel)` and network order `(sample, channel, height, width)`:"
   ]
  },
  {
   "cell_type": "code",
   "execution_count": 3,
   "metadata": {
    "collapsed": false
   },
   "outputs": [],
   "source": [
    "def img_to_net(img):\n",
    "    # (H, W, C) -> (B, C, H, W)\n",
    "    img = img[None, :, :, :].transpose(0, 3, 1, 2)\n",
    "    return img.astype(np.float32)\n",
    "\n",
    "def net_to_img(img):\n",
    "    # (B, C, H, W) -> (H, W, C)\n",
    "    img = img[0, :, :, :].transpose(1, 2, 0)\n",
    "    return img.astype(np.float32)"
   ]
  },
  {
   "cell_type": "markdown",
   "metadata": {},
   "source": [
    "## Load our dataset\n",
    "\n",
    "Join the Kaggle competition linked above and download the training and test data sets. Unzip them into a directory of your chooseing, and modify the path definitions below to point to the appropriate location:"
   ]
  },
  {
   "cell_type": "code",
   "execution_count": 4,
   "metadata": {
    "collapsed": false
   },
   "outputs": [],
   "source": [
    "TRAIN_PATH = r'E:\\datasets\\dogsvscats\\train'\n",
    "TEST_PATH = r'E:\\datasets\\dogsvscats\\test1'\n",
    "\n",
    "train_image_paths = glob.glob(os.path.join(TRAIN_PATH, '*.jpg'))\n",
    "tests_image_paths = glob.glob(os.path.join(TEST_PATH, '*.jpg'))"
   ]
  },
  {
   "cell_type": "markdown",
   "metadata": {},
   "source": [
    "Now we will define a function that will load an image from the given path, scale it to 64x64 while preserving aspect ratio, and convert it's colour space:"
   ]
  },
  {
   "cell_type": "code",
   "execution_count": 5,
   "metadata": {
    "collapsed": true
   },
   "outputs": [],
   "source": [
    "def load_image(path):\n",
    "    # Read\n",
    "    img = skimage.io.imread(path)\n",
    "    # Convert to float\n",
    "    img = skimage.util.img_as_float(img)\n",
    "    # Compute scaled dimensions, while preserving aspect ratio\n",
    "    # py0, py1, px0, px1 are the padding required to get the image to 64x64\n",
    "    if img.shape[0] >= img.shape[1]:\n",
    "        height = 64\n",
    "        width = int(img.shape[1] * 64.0 / float(img.shape[0]) + 0.5)\n",
    "        py0 = py1 = 0\n",
    "        px0 = (64 - width) // 2\n",
    "        px1 = (64 - width) - px0\n",
    "    else:\n",
    "        width = 64\n",
    "        height = int(img.shape[0] * 64.0 / float(img.shape[1]) + 0.5)\n",
    "        px0 = px1 = 0\n",
    "        py0 = (64 - height) // 2\n",
    "        py1 = (64 - height) - py0\n",
    "    img = skimage.transform.resize(img, (height, width))\n",
    "    \n",
    "    # Convert for use with net\n",
    "    img = img_to_net(img)\n",
    "    \n",
    "    # Apply padding, with constant value of -1 so that we can identify padded pixels later on:\n",
    "    img = np.pad(img, [(0, 0), (0, 0), (py0, py1), (px0, px1)], mode='constant', constant_values=-1.0)\n",
    "    \n",
    "    return img"
   ]
  },
  {
   "cell_type": "markdown",
   "metadata": {},
   "source": [
    "Show an image to check our code so far:"
   ]
  },
  {
   "cell_type": "code",
   "execution_count": 6,
   "metadata": {
    "collapsed": false
   },
   "outputs": [
    {
     "data": {
      "image/png": "[encoded data removed]",
      "text/plain": [
       "<matplotlib.figure.Figure at 0x6ef2b2e8>"
      ]
     },
     "metadata": {},
     "output_type": "display_data"
    }
   ],
   "source": [
    "plt.imshow(net_to_img(load_image(train_image_paths[0])))\n",
    "plt.show()"
   ]
  },
  {
   "cell_type": "markdown",
   "metadata": {},
   "source": [
    "Looks okay."
   ]
  },
  {
   "cell_type": "markdown",
   "metadata": {},
   "source": [
    "#### Build the data set:"
   ]
  },
  {
   "cell_type": "code",
   "execution_count": 7,
   "metadata": {
    "collapsed": false
   },
   "outputs": [
    {
     "name": "stdout",
     "output_type": "stream",
     "text": [
      "\n",
      "Loaded 25000 images in 254.18s\n"
     ]
    }
   ],
   "source": [
    "t1 = time.time()\n",
    "# Load all image samples\n",
    "data_X = []\n",
    "for p in tqdm.tqdm_notebook(train_image_paths):\n",
    "    data_X.append(load_image(p))\n",
    "\n",
    "# Concatenate along axis 0 (sample axis)\n",
    "data_X = np.concatenate(data_X, axis=0).astype(np.float32)\n",
    "t2 = time.time()\n",
    "\n",
    "print('Loaded {} images in {:.2f}s'.format(len(train_image_paths), t2 - t1))"
   ]
  },
  {
   "cell_type": "code",
   "execution_count": 8,
   "metadata": {
    "collapsed": false
   },
   "outputs": [
    {
     "name": "stdout",
     "output_type": "stream",
     "text": [
      "12500 cats, 12500 dogs\n"
     ]
    }
   ],
   "source": [
    "# The ground truth classifications are given by the filename having either a 'dog.' or 'cat.' prefix\n",
    "# Use:\n",
    "# 0: cat\n",
    "# 1: dog\n",
    "data_y = [(1 if os.path.basename(p).lower().startswith('dog.') else 0) for p in train_image_paths]\n",
    "data_y = np.array(data_y).astype(np.int32)\n",
    "\n",
    "print('{} cats, {} dogs'.format((data_y == 0).sum(), (data_y == 1).sum()))"
   ]
  },
  {
   "cell_type": "markdown",
   "metadata": {},
   "source": [
    "#### Split the dataset into train and validation\n",
    "\n",
    "Note that we implement the split manually here. We could easily use [sklearn.model_selection.StratifiedShuffleSplit](http://scikit-learn.org/stable/modules/generated/sklearn.model_selection.StratifiedShuffleSplit.html#sklearn.model_selection.StratifiedShuffleSplit). I am refraining for now due to the API changes."
   ]
  },
  {
   "cell_type": "code",
   "execution_count": 9,
   "metadata": {
    "collapsed": false
   },
   "outputs": [
    {
     "name": "stdout",
     "output_type": "stream",
     "text": [
      "Train: X.shape=(22500L, 3L, 64L, 64L), y.shape=(22500L,); val: X.shape=(2500L, 3L, 64L, 64L), y.shape=(2500L,)\n"
     ]
    }
   ],
   "source": [
    "# Create a RNG that we will use throughout the notebook:\n",
    "rng = np.random.RandomState(12345)\n",
    "\n",
    "# Get the indices of samples that are dogs and cats\n",
    "dog_ndx = np.where(data_y == 1)[0]\n",
    "cat_ndx = np.where(data_y == 0)[0]\n",
    "\n",
    "# Shuffle them, so that we make a random split\n",
    "rng.shuffle(dog_ndx)\n",
    "rng.shuffle(cat_ndx)\n",
    "\n",
    "# There are 12,500 of each in the data set.\n",
    "# Build a mask that indicates the samples that are in the validation set\n",
    "val_mask = np.zeros(data_y.shape, dtype=bool)\n",
    "# Choose 1250 as validation from each class\n",
    "val_mask[dog_ndx[:1250]] = True\n",
    "val_mask[cat_ndx[:1250]] = True\n",
    "\n",
    "# Now split the data:\n",
    "val_X = data_X[val_mask]\n",
    "val_y = data_y[val_mask]\n",
    "\n",
    "train_X = data_X[~val_mask]\n",
    "train_y = data_y[~val_mask]\n",
    "\n",
    "print('Train: X.shape={}, y.shape={}; val: X.shape={}, y.shape={}'.format(train_X.shape, train_y.shape, val_X.shape, val_y.shape))"
   ]
  },
  {
   "cell_type": "markdown",
   "metadata": {},
   "source": [
    "Delete the original arrays to free up some RAM:"
   ]
  },
  {
   "cell_type": "code",
   "execution_count": 10,
   "metadata": {
    "collapsed": true
   },
   "outputs": [],
   "source": [
    "del data_X, data_y"
   ]
  },
  {
   "cell_type": "markdown",
   "metadata": {},
   "source": [
    "## Perform data standardisation"
   ]
  },
  {
   "cell_type": "code",
   "execution_count": 11,
   "metadata": {
    "collapsed": true
   },
   "outputs": [],
   "source": [
    "# Flatten training set to get all RGB samples\n",
    "train_rgb = train_X.transpose(0, 2, 3, 1).reshape((-1, 3))\n",
    "# Select the samples that are not -1 and therefore not padded pixels\n",
    "not_pad = train_rgb[:, 0] != -1\n",
    "train_rgb = train_rgb[not_pad, :]\n",
    "\n",
    "# Compute the mean and std-dev\n",
    "mean_rgb = train_rgb.mean(axis=0)\n",
    "std_rgb = train_rgb.std(axis=0)\n",
    "\n",
    "# Don't need; save memory\n",
    "del train_rgb\n",
    "\n",
    "# Mask pixels that are padding:\n",
    "train_mask = train_X == -1.0\n",
    "val_mask = val_X == -1.0\n",
    "\n",
    "# Apply standardisation:\n",
    "train_X = (train_X - mean_rgb[None, :, None, None]) / std_rgb[None, :, None, None]\n",
    "val_X = (val_X - mean_rgb[None, :, None, None]) / std_rgb[None, :, None, None]\n",
    "\n",
    "# Set padding pixels to 0:\n",
    "train_X[train_mask] = 0.0\n",
    "val_X[val_mask] = 0.0"
   ]
  },
  {
   "cell_type": "markdown",
   "metadata": {},
   "source": [
    "## Build the network\n",
    "\n",
    "Now we will use the Lasagne API to build the pet classifier network.\n",
    "\n",
    "Use the same architecture as with transfer learning:"
   ]
  },
  {
   "cell_type": "code",
   "execution_count": 12,
   "metadata": {
    "collapsed": false
   },
   "outputs": [],
   "source": [
    "def build_pet_classifier_network():\n",
    "    net = {}\n",
    "    # Input layer: shape is of the form (sample, channel, height, width).\n",
    "    # We are using 3 channel images of size 64 x 64.\n",
    "    # We leave the sample dimension with no size (`None`) so that the\n",
    "    # minibatch size is whatever we need it to be when we use it\n",
    "    net['input'] = InputLayer((None, 3, 64, 64))\n",
    "    \n",
    "    # First two convolutional layers: 48 filters, 3x3 convolution, 1 pixel padding\n",
    "    net['conv1_1'] = Conv2DLayer(net['input'], 48, 3, pad=1, W=lasagne.init.HeUniform())\n",
    "    net['conv1_2'] = Conv2DLayer(net['conv1_1'], 48, 3, pad=1, W=lasagne.init.HeUniform())\n",
    "    net['pool1'] = Pool2DLayer(net['conv1_2'], 2)\n",
    "    \n",
    "    # Two convolutional layers, 96 filters\n",
    "    net['conv2_1'] = Conv2DLayer(net['pool1'], 96, 3, pad=1, W=lasagne.init.HeUniform())\n",
    "    net['conv2_2'] = Conv2DLayer(net['conv2_1'], 96, 3, pad=1, W=lasagne.init.HeUniform())\n",
    "    net['pool2'] = Pool2DLayer(net['conv2_2'], 2)\n",
    "    \n",
    "    # Two convolutional layers, 192 filters\n",
    "    net['conv3_1'] = Conv2DLayer(net['pool2'], 192, 3, pad=1, W=lasagne.init.HeUniform())\n",
    "    net['conv3_2'] = Conv2DLayer(net['conv3_1'], 192, 3, pad=1, W=lasagne.init.HeUniform())\n",
    "    net['pool3'] = Pool2DLayer(net['conv3_2'], 2)\n",
    "    \n",
    "    # Two convolutional layers, 384 filters\n",
    "    net['conv4_1'] = Conv2DLayer(net['pool3'], 384, 3, pad=1, W=lasagne.init.HeUniform())\n",
    "    net['conv4_2'] = Conv2DLayer(net['conv4_1'], 384, 3, pad=1, W=lasagne.init.HeUniform())\n",
    "    net['pool4'] = Pool2DLayer(net['conv4_2'], 2)\n",
    "    \n",
    "    # Two convolutional layers, 384 filters\n",
    "    net['conv5_1'] = Conv2DLayer(net['pool4'], 384, 3, pad=1, W=lasagne.init.HeUniform())\n",
    "    net['conv5_2'] = Conv2DLayer(net['conv5_1'], 384, 3, pad=1, W=lasagne.init.HeUniform())\n",
    "    net['pool5'] = Pool2DLayer(net['conv5_2'], 2)\n",
    "    \n",
    "    #\n",
    "    # ALL LAYERS ABOVE ARE PRE-TRAINED\n",
    "    #\n",
    "    # ALL LAYERS BELOW ARE NEW\n",
    "    #\n",
    "    \n",
    "    # Dense layer, 256 units\n",
    "    net['fc6'] = DenseLayer(net['pool5'], num_units=256, W=lasagne.init.HeUniform())\n",
    "    # 50% dropout (only applied during training, turned off during prediction)\n",
    "    net['fc6_dropout'] = DropoutLayer(net['fc6'], p=0.5)\n",
    "    \n",
    "    # Final dense layer, 2 units: 1 for each class\n",
    "    net['fc7'] = DenseLayer(net['fc6_dropout'], num_units=2, nonlinearity=None, W=lasagne.init.HeUniform())\n",
    "    # Softmax non-linearity that will generate probabilities\n",
    "    net['prob'] = NonlinearityLayer(net['fc7'], softmax)\n",
    "\n",
    "    return net"
   ]
  },
  {
   "cell_type": "code",
   "execution_count": 13,
   "metadata": {
    "collapsed": true
   },
   "outputs": [],
   "source": [
    "# Build it\n",
    "pet_net = build_pet_classifier_network()"
   ]
  },
  {
   "cell_type": "markdown",
   "metadata": {},
   "source": [
    "## Set up Theano variables, expressions and functions for training the classifier\n",
    "\n",
    "Create variables for our a batch of input images `x` and a batch of targets `y`:"
   ]
  },
  {
   "cell_type": "code",
   "execution_count": 14,
   "metadata": {
    "collapsed": true
   },
   "outputs": [],
   "source": [
    "x_var = theano.tensor.tensor4('x')\n",
    "y_var = theano.tensor.ivector('y')"
   ]
  },
  {
   "cell_type": "markdown",
   "metadata": {},
   "source": [
    "Generate expressions for the network output, in both training mode (dropout on) and evaluation mode (dropout off, hence `deterministic=True`):"
   ]
  },
  {
   "cell_type": "code",
   "execution_count": 15,
   "metadata": {
    "collapsed": true
   },
   "outputs": [],
   "source": [
    "train_pred_prob = lasagne.layers.get_output(pet_net['prob'], x_var)\n",
    "eval_pred_prob = lasagne.layers.get_output(pet_net['prob'], x_var, deterministic=True)"
   ]
  },
  {
   "cell_type": "markdown",
   "metadata": {},
   "source": [
    "Expression for the predicted label in evaluation mode:"
   ]
  },
  {
   "cell_type": "code",
   "execution_count": 16,
   "metadata": {
    "collapsed": false
   },
   "outputs": [],
   "source": [
    "eval_pred_y = eval_pred_prob.argmax(axis=1)"
   ]
  },
  {
   "cell_type": "markdown",
   "metadata": {},
   "source": [
    "Expressions for loss in training and evaluation mode and errors in evaluation mode:"
   ]
  },
  {
   "cell_type": "code",
   "execution_count": 17,
   "metadata": {
    "collapsed": false
   },
   "outputs": [],
   "source": [
    "train_losses = lasagne.objectives.categorical_crossentropy(train_pred_prob, y_var)\n",
    "eval_losses = lasagne.objectives.categorical_crossentropy(eval_pred_prob, y_var)\n",
    "eval_errs = theano.tensor.neq(eval_pred_y, y_var).astype(theano.config.floatX)"
   ]
  },
  {
   "cell_type": "markdown",
   "metadata": {},
   "source": [
    "Get the pre-trained and new parameters and compute separate update dictionaries for them, using the ADAM rule:"
   ]
  },
  {
   "cell_type": "code",
   "execution_count": 18,
   "metadata": {
    "collapsed": true
   },
   "outputs": [],
   "source": [
    "params = lasagne.layers.get_all_params(pet_net['prob'], trainable=True)\n",
    "\n",
    "train_loss = train_losses.mean()\n",
    "train_updates = lasagne.updates.adam(train_loss, params, learning_rate=3e-4)"
   ]
  },
  {
   "cell_type": "markdown",
   "metadata": {},
   "source": [
    "Compile Theano functions for training, evaluation and prediction:"
   ]
  },
  {
   "cell_type": "code",
   "execution_count": 19,
   "metadata": {
    "collapsed": false
   },
   "outputs": [
    {
     "name": "stdout",
     "output_type": "stream",
     "text": [
      "Compiling train function...\n"
     ]
    }
   ],
   "source": [
    "print('Compiling train function...')\n",
    "f_train = theano.function([x_var, y_var], train_losses.sum(), updates=train_updates)"
   ]
  },
  {
   "cell_type": "code",
   "execution_count": 20,
   "metadata": {
    "collapsed": false
   },
   "outputs": [
    {
     "name": "stdout",
     "output_type": "stream",
     "text": [
      "Compiling evaluation function...\n"
     ]
    }
   ],
   "source": [
    "print('Compiling evaluation function...')\n",
    "f_eval = theano.function([x_var, y_var], [eval_losses.sum(), eval_errs.sum()])"
   ]
  },
  {
   "cell_type": "code",
   "execution_count": 21,
   "metadata": {
    "collapsed": false
   },
   "outputs": [
    {
     "name": "stdout",
     "output_type": "stream",
     "text": [
      "Compiling prediction function...\n"
     ]
    }
   ],
   "source": [
    "print('Compiling prediction function...')\n",
    "f_pred = theano.function([x_var], eval_pred_prob)"
   ]
  },
  {
   "cell_type": "markdown",
   "metadata": {},
   "source": [
    "## Train the network\n",
    "\n",
    "Define functions for extracting mini-batches of data from the training and validation sets:"
   ]
  },
  {
   "cell_type": "code",
   "execution_count": 22,
   "metadata": {
    "collapsed": true
   },
   "outputs": [],
   "source": [
    "def train_batch_iter(batch_size):\n",
    "    # Extract batches from the training set with samples in shuffled order\n",
    "    # Number of samples\n",
    "    n = train_y.shape[0]\n",
    "    \n",
    "    # Sample indices in shuffled order\n",
    "    ndx = rng.permutation(n)\n",
    "    \n",
    "    n_batches = n // batch_size\n",
    "    if (n % batch_size) > 0:\n",
    "        n_batches += 1\n",
    "    \n",
    "    # Extract batches\n",
    "    for i in range(0, n, batch_size):\n",
    "        batch_ndx = ndx[i:i + batch_size]\n",
    "        batch_X = train_X[batch_ndx]\n",
    "        batch_y = train_y[batch_ndx]        \n",
    "        yield batch_X, batch_y\n",
    "        \n",
    "        \n",
    "def val_batch_iter(batch_size):\n",
    "    # Extract batches from the validation set with samples in order\n",
    "    # Number of samples\n",
    "    n = val_y.shape[0]\n",
    "    \n",
    "    n_batches = n // batch_size\n",
    "    if (n % batch_size) > 0:\n",
    "        n_batches += 1\n",
    "    \n",
    "    # Extract batches\n",
    "    for i in range(0, n, batch_size):\n",
    "        batch_X = val_X[i:i + batch_size]\n",
    "        batch_y = val_y[i:i + batch_size]        \n",
    "        yield batch_X, batch_y"
   ]
  },
  {
   "cell_type": "markdown",
   "metadata": {},
   "source": [
    "Define settings for training:"
   ]
  },
  {
   "cell_type": "code",
   "execution_count": 23,
   "metadata": {
    "collapsed": true
   },
   "outputs": [],
   "source": [
    "NUM_EPOCHS = 50"
   ]
  },
  {
   "cell_type": "markdown",
   "metadata": {},
   "source": [
    "The training loop:"
   ]
  },
  {
   "cell_type": "code",
   "execution_count": 24,
   "metadata": {
    "collapsed": false
   },
   "outputs": [
    {
     "name": "stdout",
     "output_type": "stream",
     "text": [
      "Training...\n",
      "Epoch 0 took 31.47s: train loss=0.668873; val loss=0.682701 err=39.28%\n",
      "Epoch 1 took 31.65s: train loss=0.585444; val loss=0.531969 err=25.20%\n",
      "Epoch 2 took 31.95s: train loss=0.454245; val loss=0.423836 err=18.44%\n",
      "Epoch 3 took 32.20s: train loss=0.351765; val loss=0.332053 err=14.80%\n",
      "Epoch 4 took 32.32s: train loss=0.284822; val loss=0.315908 err=14.32%\n",
      "Epoch 5 took 32.53s: train loss=0.215822; val loss=0.305609 err=13.88%\n",
      "Epoch 6 took 32.55s: train loss=0.164023; val loss=0.300702 err=13.32%\n",
      "Epoch 7 took 32.88s: train loss=0.122728; val loss=0.339982 err=12.84%\n",
      "Epoch 8 took 32.90s: train loss=0.096470; val loss=0.354636 err=12.88%\n",
      "Epoch 9 took 32.90s: train loss=0.067475; val loss=0.377165 err=12.72%\n",
      "Epoch 10 took 32.87s: train loss=0.059533; val loss=0.375793 err=12.24%\n",
      "Epoch 11 took 32.86s: train loss=0.040579; val loss=0.440871 err=12.68%\n",
      "Epoch 12 took 32.80s: train loss=0.032790; val loss=0.478959 err=12.44%\n",
      "Epoch 13 took 32.98s: train loss=0.029902; val loss=0.532791 err=12.76%\n",
      "Epoch 14 took 32.87s: train loss=0.028486; val loss=0.507927 err=11.76%\n",
      "Epoch 15 took 32.97s: train loss=0.025061; val loss=0.500803 err=12.20%\n",
      "Epoch 16 took 32.74s: train loss=0.023931; val loss=0.631287 err=12.60%\n",
      "Epoch 17 took 32.82s: train loss=0.022888; val loss=0.543168 err=12.40%\n",
      "Epoch 18 took 32.75s: train loss=0.019317; val loss=0.626094 err=12.40%\n",
      "Epoch 19 took 32.88s: train loss=0.017167; val loss=0.498923 err=11.12%\n",
      "Epoch 20 took 32.68s: train loss=0.013812; val loss=0.548169 err=11.00%\n",
      "Epoch 21 took 32.67s: train loss=0.014269; val loss=0.525816 err=11.92%\n",
      "Epoch 22 took 32.60s: train loss=0.022479; val loss=0.489172 err=11.28%\n",
      "Epoch 23 took 32.62s: train loss=0.013811; val loss=0.614549 err=10.92%\n",
      "Epoch 24 took 32.63s: train loss=0.014537; val loss=0.562197 err=11.20%\n",
      "Epoch 25 took 32.48s: train loss=0.017392; val loss=0.606013 err=11.48%\n",
      "Epoch 26 took 32.60s: train loss=0.012333; val loss=0.696848 err=12.40%\n",
      "Epoch 27 took 32.52s: train loss=0.013106; val loss=0.746093 err=11.04%\n",
      "Epoch 28 took 32.57s: train loss=0.016174; val loss=0.649220 err=11.48%\n",
      "Epoch 29 took 32.43s: train loss=0.015606; val loss=0.551366 err=11.44%\n",
      "Epoch 30 took 32.63s: train loss=0.014216; val loss=0.581160 err=12.08%\n",
      "Epoch 31 took 32.55s: train loss=0.013422; val loss=0.781555 err=12.04%\n",
      "Epoch 32 took 32.44s: train loss=0.011584; val loss=0.723416 err=11.80%\n",
      "Epoch 33 took 32.36s: train loss=0.015747; val loss=0.762211 err=11.56%\n",
      "Epoch 34 took 32.40s: train loss=0.015547; val loss=0.615184 err=11.60%\n",
      "Epoch 35 took 32.40s: train loss=0.011489; val loss=0.578363 err=12.20%\n",
      "Epoch 36 took 32.35s: train loss=0.009791; val loss=0.631321 err=12.44%\n",
      "Epoch 37 took 32.36s: train loss=0.013557; val loss=0.493481 err=11.64%\n",
      "Epoch 38 took 32.39s: train loss=0.016544; val loss=0.582976 err=12.28%\n",
      "Epoch 39 took 32.35s: train loss=0.008007; val loss=0.661045 err=11.72%\n",
      "Epoch 40 took 32.38s: train loss=0.008337; val loss=0.664766 err=11.24%\n",
      "Epoch 41 took 32.34s: train loss=0.009796; val loss=0.623070 err=10.68%\n",
      "Epoch 42 took 32.39s: train loss=0.009948; val loss=0.530880 err=11.92%\n",
      "Epoch 43 took 32.38s: train loss=0.010506; val loss=0.699682 err=12.36%\n",
      "Epoch 44 took 32.41s: train loss=0.014336; val loss=0.660957 err=11.72%\n",
      "Epoch 45 took 32.26s: train loss=0.010930; val loss=0.663066 err=11.92%\n",
      "Epoch 46 took 32.39s: train loss=0.009745; val loss=0.744792 err=11.52%\n",
      "Epoch 47 took 32.42s: train loss=0.018626; val loss=0.641874 err=11.56%\n",
      "Epoch 48 took 32.31s: train loss=0.007464; val loss=0.653223 err=11.72%\n",
      "Epoch 49 took 32.36s: train loss=0.013049; val loss=0.541327 err=10.68%\n"
     ]
    }
   ],
   "source": [
    "print('Training...')\n",
    "\n",
    "for epoch_i in range(NUM_EPOCHS):\n",
    "    t1 = time.time()\n",
    "    \n",
    "    # TRAIN\n",
    "    train_loss = 0.0\n",
    "    # For each batch:\n",
    "    for batch_X, batch_y in train_batch_iter(128):\n",
    "        # Accumulate training loss\n",
    "        train_loss += f_train(batch_X, batch_y)\n",
    "    # Divide by number of samples to get mean loss\n",
    "    train_loss /= float(train_y.shape[0])\n",
    "    \n",
    "    # VALIDATE\n",
    "    val_loss = val_err = 0.0\n",
    "    # For each batch:\n",
    "    for batch_X, batch_y in val_batch_iter(128):\n",
    "        # Accumulate loss and error\n",
    "        l, e = f_eval(batch_X, batch_y)\n",
    "        val_loss += l\n",
    "        val_err += e\n",
    "    # Divide by number of samples to get mean loss and error\n",
    "    val_loss /= float(val_y.shape[0])\n",
    "    val_err /= float(val_y.shape[0])\n",
    "    \n",
    "    t2 = time.time()\n",
    "    \n",
    "    # REPORT\n",
    "    print('Epoch {} took {:.2f}s: train loss={:.6f}; val loss={:.6f} err={:.2%}'.format(\n",
    "            epoch_i, t2 - t1, train_loss, val_loss, val_err))"
   ]
  },
  {
   "cell_type": "markdown",
   "metadata": {},
   "source": [
    "### Apply to some example images from the test set"
   ]
  },
  {
   "cell_type": "code",
   "execution_count": null,
   "metadata": {
    "collapsed": false
   },
   "outputs": [],
   "source": [
    "# Number of samples to try\n",
    "N_TEST = 15\n",
    "\n",
    "# Shuffle test sample indcies\n",
    "test_ndx = rng.permutation(len(tests_image_paths))\n",
    "\n",
    "# Select first `N_TEST` samples\n",
    "test_ndx = test_ndx[:N_TEST]\n",
    "\n",
    "for test_i in test_ndx:\n",
    "    # Load the image\n",
    "    X = load_image(tests_image_paths[test_i])\n",
    "    \n",
    "    # Predict class probabilities\n",
    "    pred_prob = f_pred((X - mean_rgb[None, :, None, None]) / std_rgb[None, :, None, None])\n",
    "    # Get predicated class\n",
    "    pred_y = np.argmax(pred_prob, axis=1)\n",
    "    \n",
    "    # Get class name\n",
    "    pred_cls = 'dog' if pred_y[0] == 1 else 'cat'\n",
    "    \n",
    "    # Report\n",
    "    print('Sample {}: predicted as {}, confidence {:.2%}'.format(test_i, pred_cls, pred_prob[0,pred_y[0]]))\n",
    "    # Show the image\n",
    "    plt.figure()\n",
    "    plt.imshow(net_to_img(X))\n",
    "    plt.show()"
   ]
  }
 ],
 "metadata": {
  "anaconda-cloud": {},
  "kernelspec": {
   "display_name": "Python [default]",
   "language": "python",
   "name": "python2"
  },
  "language_info": {
   "codemirror_mode": {
    "name": "ipython",
    "version": 2
   },
   "file_extension": ".py",
   "mimetype": "text/x-python",
   "name": "python",
   "nbconvert_exporter": "python",
   "pygments_lexer": "ipython2",
   "version": "2.7.11"
  },
  "widgets": {
   "state": {
    "86fcc41136d9424ca653483ffe051fce": {
     "views": [
      {
       "cell_index": 15
      }
     ]
    }
   },
   "version": "1.2.0"
  }
 },
 "nbformat": 4,
 "nbformat_minor": 0
}
