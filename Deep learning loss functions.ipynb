{
 "cells": [
  {
   "cell_type": "markdown",
   "metadata": {},
   "source": [
    "# Deep learning loss functions"
   ]
  },
  {
   "cell_type": "markdown",
   "metadata": {},
   "source": [
    "Inline plots:"
   ]
  },
  {
   "cell_type": "code",
   "execution_count": 1,
   "metadata": {
    "collapsed": true
   },
   "outputs": [],
   "source": [
    "%matplotlib inline"
   ]
  },
  {
   "cell_type": "markdown",
   "metadata": {},
   "source": [
    "We want to use `Theano` so that we can use it's auto-differentiation, since I'm too lazy to work out the derivatives of these functions by hand! :)\n",
    "\n",
    "We also want to avoid the overhead of using the GPU for such small tasks, so tell Theano to use the CPU:"
   ]
  },
  {
   "cell_type": "code",
   "execution_count": 2,
   "metadata": {
    "collapsed": true
   },
   "outputs": [],
   "source": [
    "import os\n",
    "os.environ['THEANO_FLAGS'] = 'device=cpu'"
   ]
  },
  {
   "cell_type": "code",
   "execution_count": 3,
   "metadata": {
    "collapsed": true
   },
   "outputs": [],
   "source": [
    "import numpy as np\n",
    "import pandas as pd\n",
    "import theano, theano.tensor as T\n",
    "from matplotlib import pyplot as plt\n",
    "import seaborn as sns\n",
    "\n",
    "EPSILON = 1.0e-12\n",
    "\n",
    "SAVE_PLOTS = True"
   ]
  },
  {
   "cell_type": "markdown",
   "metadata": {},
   "source": [
    "### Classification: softmax non-linearity with negative log loss\n",
    "\n",
    "First define functions for computing softmax and negative log loss:"
   ]
  },
  {
   "cell_type": "code",
   "execution_count": 4,
   "metadata": {
    "collapsed": true
   },
   "outputs": [],
   "source": [
    "# Softmax definition\n",
    "def softmax(logits):\n",
    "    ex = T.exp(logits)\n",
    "    return ex / ex.sum()\n",
    "\n",
    "# Variable for logits\n",
    "logits_var = T.vector()\n",
    "# Theano function for softmax\n",
    "f_softmax = theano.function([logits_var], softmax(logits_var))\n",
    "\n",
    "# Negative log loss\n",
    "def negative_log_loss(q, p):\n",
    "    return -(T.log(q+EPSILON) * p).sum()\n",
    "\n",
    "# Variable for true probability\n",
    "p_var = T.vector()\n",
    "# Theano function for negative log loss of softmax\n",
    "f_clf_loss = theano.function([logits_var, p_var], negative_log_loss(softmax(logits_var), p_var))\n",
    "\n",
    "# Theano function Gradient of loss\n",
    "f_clf_loss_grad = theano.function([logits_var, p_var], T.grad(negative_log_loss(softmax(logits_var), p_var), wrt=logits_var))"
   ]
  },
  {
   "cell_type": "markdown",
   "metadata": {},
   "source": [
    "Apply:"
   ]
  },
  {
   "cell_type": "code",
   "execution_count": 6,
   "metadata": {
    "collapsed": false
   },
   "outputs": [
    {
     "data": {
      "image/png": "[encoded data removed]",
      "text/plain": [
       "<matplotlib.figure.Figure at 0x110a3e48>"
      ]
     },
     "metadata": {},
     "output_type": "display_data"
    }
   ],
   "source": [
    "# Compute the range of values that we wish to explore\n",
    "xs = np.arange(-5.0, 5.001, 1.0/128.0).astype(np.float32)\n",
    "\n",
    "# Build an array of logit vector, where each logit vector is for a 2-class problem with the values [0, x[i]]\n",
    "logits = [np.array([0.0, x]).astype(np.float32) for x in xs]\n",
    "\n",
    "# Use softmax to compute predicted probabilities:\n",
    "clf_q = [f_softmax(x) for x in logits]\n",
    "clf_p = np.array([0.0, 1.0], dtype=np.float32)\n",
    "\n",
    "# Compute negative log loss of softmax:\n",
    "clf_loss = [f_clf_loss(x, clf_p) for x in logits]\n",
    "\n",
    "# Compute gradient of negative log loss of softmax with respect to the logits:\n",
    "clf_loss_grad = [f_clf_loss_grad(x, clf_p)[1] for x in logits]\n",
    "\n",
    "plt.figure(figsize=(5, 5))\n",
    "plt.xlim(-5.0, 5.0)\n",
    "plt.ylim(-5.0, 5.0)\n",
    "line_p, = plt.plot(xs, np.ones_like(xs), label=r'$p$')\n",
    "line_q, = plt.plot(xs, [q[1] for q in clf_q], label=r'$q = softmax(X)$')\n",
    "line_loss, = plt.plot(xs, clf_loss, label=r'loss $c =-ln(q)$')\n",
    "line_loss_grad, = plt.plot(xs, clf_loss_grad, label=r'grad loss $\\frac{dc}{dX_1}$')\n",
    "plt.legend(handles=[line_p, line_q, line_loss, line_loss_grad])\n",
    "plt.xlabel(r'$X_1$')\n",
    "plt.show()\n",
    "\n",
    "if SAVE_PLOTS:\n",
    "    plt.figure(figsize=(5, 5))\n",
    "    plt.xlim(-5.0, 5.0)\n",
    "    plt.ylim(-5.0, 5.0)\n",
    "    line_p, = plt.plot(xs, np.ones_like(xs), label=r'$p$')\n",
    "    line_q, = plt.plot(xs, [q[1] for q in clf_q], label=r'$q = softmax(X)$')\n",
    "    plt.legend(handles=[line_p, line_q])\n",
    "    plt.xlabel(r'$X_1$')\n",
    "    plt.savefig('clf_loss_0.png', dpi=600)\n",
    "    plt.close()\n",
    "\n",
    "    plt.figure(figsize=(5, 5))\n",
    "    plt.xlim(-5.0, 5.0)\n",
    "    plt.ylim(-5.0, 5.0)\n",
    "    line_p, = plt.plot(xs, np.ones_like(xs), label=r'$p$')\n",
    "    line_q, = plt.plot(xs, [q[1] for q in clf_q], label=r'$q = softmax(X)$')\n",
    "    line_loss, = plt.plot(xs, clf_loss, label=r'loss $c =-ln(q)$')\n",
    "    plt.legend(handles=[line_p, line_q, line_loss])\n",
    "    plt.xlabel(r'$X_1$')\n",
    "    plt.savefig('clf_loss_1.png', dpi=600)\n",
    "    plt.close()\n",
    "\n",
    "    plt.figure(figsize=(5, 5))\n",
    "    plt.xlim(-5.0, 5.0)\n",
    "    plt.ylim(-5.0, 5.0)\n",
    "    line_p, = plt.plot(xs, np.ones_like(xs), label=r'$p$')\n",
    "    line_q, = plt.plot(xs, [q[1] for q in clf_q], label=r'$q = softmax(X)$')\n",
    "    line_loss, = plt.plot(xs, clf_loss, label=r'loss $c =-ln(q)$')\n",
    "    line_loss_grad, = plt.plot(xs, clf_loss_grad, label=r'grad loss $\\frac{dc}{dX_1}$')\n",
    "    plt.legend(handles=[line_p, line_q, line_loss, line_loss_grad])\n",
    "    plt.xlabel(r'$X_1$')\n",
    "    plt.savefig('clf_loss_2.png', dpi=600)\n",
    "    plt.close()"
   ]
  },
  {
   "cell_type": "markdown",
   "metadata": {},
   "source": [
    "### Probability regression: sigmoid non-linearity with binary cross-entropy\n",
    "\n",
    "First define functions for computing sigmoid and binary cross-entropy:"
   ]
  },
  {
   "cell_type": "code",
   "execution_count": 7,
   "metadata": {
    "collapsed": true
   },
   "outputs": [],
   "source": [
    "# Sigmoid definition\n",
    "def sigmoid(x):\n",
    "    return 1.0 / (1.0 + T.exp(-x))\n",
    "\n",
    "# Variable for logit\n",
    "logit_var = T.scalar()\n",
    "# Theano function for softmax\n",
    "f_sigmoid = theano.function([logit_var], sigmoid(logit_var))\n",
    "\n",
    "# Binary cross-entropy\n",
    "def binary_cross_entropy(q, p):\n",
    "    return -((T.log(q+EPSILON) * p) + (T.log((1-q)+EPSILON) * (1-p))).sum()\n",
    "\n",
    "# Variable for true probability\n",
    "p_var = T.scalar()\n",
    "# Theano function for binary cross-entropy of sigmoid\n",
    "f_prob_regr_loss = theano.function([logit_var, p_var], binary_cross_entropy(sigmoid(logit_var), p_var))\n",
    "\n",
    "# Theano function Gradient of loss\n",
    "f_prob_regr_loss_grad = theano.function([logit_var, p_var],\n",
    "                                        T.grad(binary_cross_entropy(sigmoid(logit_var), p_var), wrt=logit_var))"
   ]
  },
  {
   "cell_type": "code",
   "execution_count": 8,
   "metadata": {
    "collapsed": false
   },
   "outputs": [
    {
     "data": {
      "image/png": "[encoded data removed]",
      "text/plain": [
       "<matplotlib.figure.Figure at 0x1250ceb8>"
      ]
     },
     "metadata": {},
     "output_type": "display_data"
    }
   ],
   "source": [
    "# Compute the range of values that we wish to explore\n",
    "xs = np.arange(-5.0, 5.0, 0.01).astype(np.float32)\n",
    "\n",
    "# Use sigmoid to compute predicted probabilities:\n",
    "prob_regr_q = [f_sigmoid(x) for x in xs]\n",
    "\n",
    "# Compute binary cross-entropy of sigmoid:\n",
    "prob_regr_loss = [f_prob_regr_loss(x, 1.0) for x in xs]\n",
    "\n",
    "# Compute gradient of binary cross-entropy of sigmoid with respect to xs:\n",
    "prob_regr_loss_grad = [f_prob_regr_loss_grad(x, 1.0) for x in xs]\n",
    "\n",
    "plt.figure(figsize=(5,5))\n",
    "plt.xlim(-5.0, 5.0)\n",
    "plt.ylim(-5.0, 5.0)\n",
    "line_p, = plt.plot(xs, np.ones_like(xs), label=r'$p$')\n",
    "line_q, = plt.plot(xs, prob_regr_q, label=r'$q$')\n",
    "line_loss, = plt.plot(xs, prob_regr_loss, label=r'loss $c =-ln(q)p-ln(1-q)(1-p)$')\n",
    "line_loss_grad, = plt.plot(xs, prob_regr_loss_grad, label=r'grad loss $\\frac{dc}{dx}$')\n",
    "plt.legend(handles=[line_p, line_q, line_loss, line_loss_grad])\n",
    "plt.xlabel(r'$x$')\n",
    "plt.show()\n",
    "\n",
    "if SAVE_PLOTS:\n",
    "    plt.figure(figsize=(5, 5))\n",
    "    plt.xlim(-5.0, 5.0)\n",
    "    plt.ylim(-5.0, 5.0)\n",
    "    line_p, = plt.plot(xs, np.ones_like(xs), label=r'$p$')\n",
    "    line_q, = plt.plot(xs, prob_regr_q, label=r'$q$')\n",
    "    line_loss, = plt.plot(xs, prob_regr_loss, label=r'loss $c =-ln(q)p-ln(1-q)(1-p)$')\n",
    "    line_loss_grad, = plt.plot(xs, prob_regr_loss_grad, label=r'grad loss $\\frac{dc}{dx}$')\n",
    "    plt.legend(handles=[line_p, line_q, line_loss, line_loss_grad])\n",
    "    plt.xlabel(r'$x$')\n",
    "    plt.savefig('prob_regr_loss_2.png', dpi=600)\n",
    "    plt.close()\n"
   ]
  },
  {
   "cell_type": "markdown",
   "metadata": {},
   "source": [
    "## Regression: no non-linearity and squared error loss"
   ]
  },
  {
   "cell_type": "code",
   "execution_count": 20,
   "metadata": {
    "collapsed": false
   },
   "outputs": [],
   "source": [
    "# Function for computing squared error\n",
    "def squared_error(a, b):\n",
    "    return T.square(a - b)\n",
    "\n",
    "# Variables for predicted x (x-hat) true x (x)\n",
    "x_hat_var = T.scalar()\n",
    "x_var = T.scalar()\n",
    "\n",
    "# Theano function for squared error loss\n",
    "f_regr_sqr_loss = theano.function([x_hat_var, x_var], squared_error(x_hat_var, x_var))\n",
    "\n",
    "# Theano function for gradient of squared error loss\n",
    "f_regr_sqr_loss_grad = theano.function([x_hat_var, x_var],\n",
    "                                       T.grad(squared_error(x_hat_var, x_var), wrt=x_hat_var))"
   ]
  },
  {
   "cell_type": "code",
   "execution_count": 29,
   "metadata": {
    "collapsed": false
   },
   "outputs": [
    {
     "data": {
      "image/png": "[encoded data removed]",
      "text/plain": [
       "<matplotlib.figure.Figure at 0x12161828>"
      ]
     },
     "metadata": {},
     "output_type": "display_data"
    }
   ],
   "source": [
    "# Compute the range of values that we wish to explore\n",
    "xs = np.arange(-5.0, 5.0, 0.01).astype(np.float32)\n",
    "\n",
    "# Use squared error loss:\n",
    "regr_sqr_loss = [f_regr_sqr_loss(x, 0.0) for x in xs]\n",
    "\n",
    "# Compute gradient of squared error with respect to x-hat\n",
    "regr_sqr_loss_grad = [f_regr_sqr_loss_grad(x, 0.0) for x in xs]\n",
    "\n",
    "plt.figure(figsize=(5,5))\n",
    "plt.xlim(-5.0, 5.0)\n",
    "plt.ylim(-5.0, 5.0)\n",
    "line_loss, = plt.plot(xs, regr_sqr_loss, label=r'loss $c = (x - \\hat{x})^2$')\n",
    "line_loss_grad, = plt.plot(xs, regr_sqr_loss_grad, label=r'grad loss $\\frac{dc}{dx}$')\n",
    "plt.legend(handles=[line_loss, line_loss_grad])\n",
    "plt.xlabel(r'$x$')\n",
    "plt.show()\n",
    "\n",
    "if SAVE_PLOTS:\n",
    "    plt.figure(figsize=(5, 5))\n",
    "    plt.xlim(-5.0, 5.0)\n",
    "    plt.ylim(-5.0, 5.0)\n",
    "    line_loss, = plt.plot(xs, regr_sqr_loss, label=r'loss $c = (x - \\hat{x})^2$')\n",
    "    line_loss_grad, = plt.plot(xs, regr_sqr_loss_grad, label=r'grad loss $\\frac{dc}{dx}$')\n",
    "    plt.legend(handles=[line_loss, line_loss_grad])\n",
    "    plt.xlabel(r'$x$')\n",
    "    plt.savefig('regr_sqr_loss_2.png', dpi=600)\n",
    "    plt.close()\n"
   ]
  },
  {
   "cell_type": "markdown",
   "metadata": {},
   "source": [
    "## Regression: no non-linearity and Huber loss\n"
   ]
  },
  {
   "cell_type": "code",
   "execution_count": 24,
   "metadata": {
    "collapsed": false
   },
   "outputs": [],
   "source": [
    "# Function for computing squared error\n",
    "def huber_loss(predictions, targets, delta=1.0):\n",
    "    # Copied from: https://github.com/Sentient07/Lasagne/blob/cd45640e8e1a6da90d85e38bcc45fef8d2f6fbab/lasagne/objectives.py\n",
    "    diff = targets - predictions\n",
    "    ift = 0.5 * squared_error(targets, predictions)\n",
    "    iff = delta * (abs(diff) - delta / 2.)\n",
    "    return theano.tensor.switch(abs(diff) <= delta, ift, iff).sum()\n",
    "\n",
    "# Variables for predicted x (x-hat) true x (x)\n",
    "x_hat_var = T.scalar()\n",
    "x_var = T.scalar()\n",
    "\n",
    "# Theano function for squared error loss\n",
    "f_regr_huber_loss = theano.function([x_hat_var, x_var], huber_loss(x_hat_var, x_var))\n",
    "\n",
    "# Theano function for gradient of squared error loss\n",
    "f_regr_huber_loss_grad = theano.function([x_hat_var, x_var],\n",
    "                                       T.grad(huber_loss(x_hat_var, x_var), wrt=x_hat_var))"
   ]
  },
  {
   "cell_type": "code",
   "execution_count": 30,
   "metadata": {
    "collapsed": false
   },
   "outputs": [
    {
     "data": {
      "image/png": "[encoded data removed]",
      "text/plain": [
       "<matplotlib.figure.Figure at 0x124e8b38>"
      ]
     },
     "metadata": {},
     "output_type": "display_data"
    }
   ],
   "source": [
    "# Compute the range of values that we wish to explore\n",
    "xs = np.arange(-5.0, 5.0, 0.01).astype(np.float32)\n",
    "\n",
    "# Use Huber loss:\n",
    "regr_sqr_loss = [f_regr_huber_loss(x, 0.0) for x in xs]\n",
    "\n",
    "# Compute gradient of Huber loss with respect to x-hat\n",
    "regr_sqr_loss_grad = [f_regr_huber_loss_grad(x, 0.0) for x in xs]\n",
    "\n",
    "plt.figure(figsize=(5,5))\n",
    "plt.xlim(-5.0, 5.0)\n",
    "plt.ylim(-5.0, 5.0)\n",
    "line_loss, = plt.plot(xs, regr_sqr_loss, label=r'loss $c = huber(x, \\hat{x})$')\n",
    "line_loss_grad, = plt.plot(xs, regr_sqr_loss_grad, label=r'grad loss $\\frac{dc}{dx}$')\n",
    "plt.legend(handles=[line_loss, line_loss_grad])\n",
    "plt.xlabel(r'$x$')\n",
    "plt.show()\n",
    "\n",
    "if SAVE_PLOTS:\n",
    "    plt.figure(figsize=(5, 5))\n",
    "    plt.xlim(-5.0, 5.0)\n",
    "    plt.ylim(-5.0, 5.0)\n",
    "    line_loss, = plt.plot(xs, regr_sqr_loss, label=r'loss $c = huber(x, \\hat{x})$')\n",
    "    line_loss_grad, = plt.plot(xs, regr_sqr_loss_grad, label=r'grad loss $\\frac{dc}{dx}$')\n",
    "    plt.legend(handles=[line_loss, line_loss_grad])\n",
    "    plt.xlabel(r'$x$')\n",
    "    plt.savefig('regr_huber_loss_2.png', dpi=600)\n",
    "    plt.close()\n"
   ]
  },
  {
   "cell_type": "markdown",
   "metadata": {},
   "source": [
    "### Show the classification logits and probabilities in tables:"
   ]
  },
  {
   "cell_type": "code",
   "execution_count": null,
   "metadata": {
    "collapsed": false
   },
   "outputs": [],
   "source": [
    "data=np.array(logits)\n",
    "pd.DataFrame(columns=['$X_0$', '$X_1$'], data=data[::128])"
   ]
  },
  {
   "cell_type": "code",
   "execution_count": null,
   "metadata": {
    "collapsed": false
   },
   "outputs": [],
   "source": [
    "data=np.append(np.array(logits), np.array(clf_q), axis=1)\n",
    "pd.DataFrame(columns=['$X_0$', '$X_1$', '$q_0$', '$q_1$'], data=data[::128])"
   ]
  }
 ],
 "metadata": {
  "anaconda-cloud": {},
  "kernelspec": {
   "display_name": "Python [default]",
   "language": "python",
   "name": "python2"
  },
  "language_info": {
   "codemirror_mode": {
    "name": "ipython",
    "version": 2
   },
   "file_extension": ".py",
   "mimetype": "text/x-python",
   "name": "python",
   "nbconvert_exporter": "python",
   "pygments_lexer": "ipython2",
   "version": "2.7.11"
  }
 },
 "nbformat": 4,
 "nbformat_minor": 1
}
