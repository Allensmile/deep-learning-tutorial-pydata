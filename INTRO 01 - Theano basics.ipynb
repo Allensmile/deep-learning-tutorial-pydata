{
 "cells": [
  {
   "cell_type": "markdown",
   "metadata": {},
   "source": [
    "# Theano basics"
   ]
  },
  {
   "cell_type": "markdown",
   "metadata": {},
   "source": [
    "### Expressions"
   ]
  },
  {
   "cell_type": "code",
   "execution_count": 13,
   "metadata": {
    "collapsed": false
   },
   "outputs": [
    {
     "name": "stdout",
     "output_type": "stream",
     "text": [
      "[[ 160.  170.]\n",
      " [ 510.  545.]]\n"
     ]
    }
   ],
   "source": [
    "# Import numpy\n",
    "import numpy as np\n",
    "# Import theano and theano.tensor\n",
    "import theano, theano.tensor as T\n",
    "# Import Lasagne floatX utility function for ensuring that data is of the correct type\n",
    "from lasagne.utils import floatX\n",
    "\n",
    "# Create some test data to play with\n",
    "a = floatX(np.arange(10.0).reshape((2,5)))\n",
    "b = floatX(np.arange(10.0,20.0).reshape((5,2)))\n",
    "\n",
    "# Load the data into Theano as shared data (note the optional name parameter)\n",
    "a_t = theano.shared(a, name='a')\n",
    "b_t = theano.shared(b)\n",
    "\n",
    "# Use the Theano equivalent of numpy.dot() to get the dot product\n",
    "ab_t = T.dot(a_t, b_t)\n",
    "\n",
    "# Evaluate to get the result\n",
    "print(ab_t.eval())"
   ]
  },
  {
   "cell_type": "markdown",
   "metadata": {},
   "source": [
    "### Accessing and modifying shared data\n",
    "Lets use `set_value` to change the values of the shared data and re-evaluate:"
   ]
  },
  {
   "cell_type": "code",
   "execution_count": 14,
   "metadata": {
    "collapsed": false
   },
   "outputs": [
    {
     "name": "stdout",
     "output_type": "stream",
     "text": [
      "[[ 0.92961609  0.31637555  0.18391882  0.20456028  0.567725  ]\n",
      " [ 0.5955447   0.96451449  0.65317708  0.74890661  0.65356988]]\n",
      "[[ 0.74771482  0.96130675]\n",
      " [ 0.0083883   0.10644437]\n",
      " [ 0.2987037   0.65641117]\n",
      " [ 0.80981255  0.87217593]\n",
      " [ 0.96464759  0.72368532]]\n",
      "[[ 1.46598887  1.63731575]\n",
      " [ 1.8854332   2.23007822]]\n"
     ]
    }
   ],
   "source": [
    "# Seeded random number generator\n",
    "rng = np.random.RandomState(12345)\n",
    "\n",
    "# Change the values of the shared data\n",
    "a_t.set_value(floatX(rng.uniform(low=0, high=1, size=(2,5))))\n",
    "b_t.set_value(floatX(rng.uniform(low=0, high=1, size=(5,2))))\n",
    "\n",
    "# Print the new values then evaluate the previously built expression and print:\n",
    "print(a_t.get_value())\n",
    "print(b_t.get_value())\n",
    "print(ab_t.eval())"
   ]
  },
  {
   "cell_type": "markdown",
   "metadata": {},
   "source": [
    "### Variables and functions"
   ]
  },
  {
   "cell_type": "code",
   "execution_count": 22,
   "metadata": {
    "collapsed": false
   },
   "outputs": [
    {
     "name": "stdout",
     "output_type": "stream",
     "text": [
      "[[ 0.74771482  0.96130675  0.0083883   0.10644437  0.2987037 ]\n",
      " [ 0.65641117  0.80981255  0.87217593  0.96464759  0.72368532]\n",
      " [ 0.64247531  0.7174536   0.467599    0.32558468  0.4396446 ]\n",
      " [ 0.72968906  0.99401456  0.67687368  0.79082251  0.17091426]\n",
      " [ 0.02684928  0.80037022  0.90372252  0.02467621  0.49174732]\n",
      " [ 0.52625519  0.59636599  0.05195754  0.89508951  0.72826618]\n",
      " [ 0.81835002  0.50022274  0.81018943  0.09596852  0.21895005]\n",
      " [ 0.25871906  0.46810576  0.45937321  0.70950979  0.17805301]\n",
      " [ 0.53144991  0.16774222  0.76881391  0.92817056  0.60949367]\n",
      " [ 0.1501835   0.48962671  0.37734497  0.8486014   0.91109723]]\n",
      "[[ 0.13432553  0.76851845]\n",
      " [ 2.81232309  3.2601366 ]\n",
      " [ 1.43153965  1.84846342]\n",
      " [ 1.71037173  2.01665854]\n",
      " [ 2.29757953  2.00904632]\n",
      " [ 1.02733076  1.85243356]\n",
      " [ 1.95351088  2.15374279]\n",
      " [ 1.32819879  1.44413781]\n",
      " [ 2.62176204  3.00520468]\n",
      " [ 1.93041217  2.39455056]]\n"
     ]
    }
   ],
   "source": [
    "# Seeded random number generator\n",
    "rng = np.random.RandomState(12345)\n",
    "\n",
    "# Create a 2D variable; use the matrix constructor\n",
    "x = T.matrix('x')\n",
    "\n",
    "# Weights and biases of 5-channel input, 2-channel output\n",
    "# linear model as shared data\n",
    "W = theano.shared(floatX(rng.normal(0.25, size=(5,2))))\n",
    "b = theano.shared(floatX(np.zeros((2,))))\n",
    "\n",
    "# Linear model\n",
    "linear = T.dot(x, W) + b[None,:]\n",
    "\n",
    "# Evaluation function\n",
    "eval_linear = theano.function([x], linear)\n",
    "\n",
    "# Test it:\n",
    "data_x = floatX(rng.uniform(0, 1, (10,5)))\n",
    "print(data_x)\n",
    "print(eval_linear(data_x))"
   ]
  },
  {
   "cell_type": "markdown",
   "metadata": {},
   "source": [
    "### Gradient and updates"
   ]
  },
  {
   "cell_type": "code",
   "execution_count": 26,
   "metadata": {
    "collapsed": false
   },
   "outputs": [
    {
     "name": "stderr",
     "output_type": "stream",
     "text": [
      "/Users/Geoff/anaconda/lib/python2.7/site-packages/ipykernel/__main__.py:22: UserWarning: The parameter 'updates' of theano.function() expects an OrderedDict, got <type 'dict'>. Using a standard dictionary here results in non-deterministic behavior. You should use an OrderedDict if you are using Python 2.7 (theano.compat.OrderedDict for older python), or use a list of (shared, update) pairs. Do not just convert your dictionary to this type before the call as the conversion will still be non-deterministic.\n"
     ]
    },
    {
     "name": "stdout",
     "output_type": "stream",
     "text": [
      "[[ 0.92649019  0.51587975]\n",
      " [ 0.07215988  0.56750828]\n",
      " [ 0.6152432   0.94154632]\n",
      " [ 0.41536334  0.26443997]\n",
      " [ 0.09739316  0.48584422]\n",
      " [ 0.46466285  0.02975932]\n",
      " [ 0.69427747  0.71694714]\n",
      " [ 0.72981143  0.41435102]\n",
      " [ 0.01509884  0.90897518]\n",
      " [ 0.7893787   0.16519918]]\n",
      "[[ 0.70715231  0.37971491]\n",
      " [ 0.52974284  0.67407358]\n",
      " [ 0.58393067  0.56866735]\n",
      " [ 0.3860887   0.49138805]\n",
      " [ 0.40986887  0.5185954 ]\n",
      " [ 0.5364511   0.25425458]\n",
      " [ 0.54059464  0.86900204]\n",
      " [ 0.14083666  0.23476195]\n",
      " [ 0.32474518  0.64020914]\n",
      " [ 0.4326514   0.28273576]]\n"
     ]
    }
   ],
   "source": [
    "import sys\n",
    "\n",
    "# Target variable; the target value\n",
    "y = T.matrix('y')\n",
    "# Learning rate variable\n",
    "lr = T.scalar('learning_rate')\n",
    "\n",
    "# Loss expression; mean squared error\n",
    "loss = ((linear - y)**2).mean()\n",
    "\n",
    "# Gradient of loss with respect to W and b\n",
    "d_grad_d_W = T.grad(loss, wrt=W)\n",
    "d_grad_d_b = T.grad(loss, wrt=b)\n",
    "\n",
    "# Stochastic gradient descent; update x to new value\n",
    "# Represent as dictionary mapping target to new value\n",
    "updates = {W: W - d_grad_d_W * lr,\n",
    "           b: b - d_grad_d_b * lr}\n",
    "\n",
    "# Training function: given values for x and y, return\n",
    "# the loss and apply updates\n",
    "train_linear = theano.function([x, y, lr], loss, updates=updates)\n",
    "\n",
    "# Test it\n",
    "# Create target data, then print it\n",
    "data_y = floatX(rng.uniform(0, 1, (10,2)))\n",
    "print(data_y)\n",
    "# 1000 iterations of SGD\n",
    "for i in xrange(1000):\n",
    "    l = train_linear(data_x, data_y, 0.01)\n",
    "    sys.stdout.write('{} '.format(l))\n",
    "    sys.stdout.flush()\n",
    "sys.stdout.write('\\n')\n",
    "sys.stdout.flush()\n",
    "# Evaluate the model\n",
    "print(eval_linear(data_x))\n",
    "    "
   ]
  }
 ],
 "metadata": {
  "kernelspec": {
   "display_name": "Python 2",
   "language": "python",
   "name": "python2"
  },
  "language_info": {
   "codemirror_mode": {
    "name": "ipython",
    "version": 2
   },
   "file_extension": ".py",
   "mimetype": "text/x-python",
   "name": "python",
   "nbconvert_exporter": "python",
   "pygments_lexer": "ipython2",
   "version": "2.7.11"
  }
 },
 "nbformat": 4,
 "nbformat_minor": 0
}
