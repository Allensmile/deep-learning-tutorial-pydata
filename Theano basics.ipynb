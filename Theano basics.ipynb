{
 "cells": [
  {
   "cell_type": "markdown",
   "metadata": {},
   "source": [
    "# Theano basics"
   ]
  },
  {
   "cell_type": "markdown",
   "metadata": {},
   "source": [
    "## Expressions"
   ]
  },
  {
   "cell_type": "code",
   "execution_count": 13,
   "metadata": {
    "collapsed": false
   },
   "outputs": [
    {
     "name": "stdout",
     "output_type": "stream",
     "text": [
      "[[ 160.  170.]\n",
      " [ 510.  545.]]\n"
     ]
    }
   ],
   "source": [
    "# Import numpy\n",
    "import numpy as np\n",
    "# Import theano and theano.tensor\n",
    "import theano, theano.tensor as T\n",
    "# Import Lasagne floatX utility function for ensuring that data is of the correct type\n",
    "from lasagne.utils import floatX\n",
    "\n",
    "# Create some test data to play with\n",
    "a = floatX(np.arange(10.0).reshape((2,5)))\n",
    "b = floatX(np.arange(10.0,20.0).reshape((5,2)))\n",
    "\n",
    "# Load the data into Theano as shared data (note the optional name parameter)\n",
    "a_t = theano.shared(a, name='a')\n",
    "b_t = theano.shared(b)\n",
    "\n",
    "# Use the Theano equivalent of numpy.dot() to get the dot product\n",
    "ab_t = T.dot(a_t, b_t)\n",
    "\n",
    "# Evaluate to get the result\n",
    "print(ab_t.eval())"
   ]
  },
  {
   "cell_type": "markdown",
   "metadata": {},
   "source": [
    "## Accessing and modifying shared data\n",
    "Lets use `set_value` to change the values of the shared data and re-evaluate:"
   ]
  },
  {
   "cell_type": "code",
   "execution_count": 14,
   "metadata": {
    "collapsed": false
   },
   "outputs": [
    {
     "name": "stdout",
     "output_type": "stream",
     "text": [
      "[[ 0.92961609  0.31637555  0.18391882  0.20456028  0.567725  ]\n",
      " [ 0.5955447   0.96451449  0.65317708  0.74890661  0.65356988]]\n",
      "[[ 0.74771482  0.96130675]\n",
      " [ 0.0083883   0.10644437]\n",
      " [ 0.2987037   0.65641117]\n",
      " [ 0.80981255  0.87217593]\n",
      " [ 0.96464759  0.72368532]]\n",
      "[[ 1.46598887  1.63731575]\n",
      " [ 1.8854332   2.23007822]]\n"
     ]
    }
   ],
   "source": [
    "# Seeded random number generator\n",
    "rng = np.random.RandomState(12345)\n",
    "\n",
    "# Change the values of the shared data\n",
    "a_t.set_value(floatX(rng.uniform(low=0, high=1, size=(2,5))))\n",
    "b_t.set_value(floatX(rng.uniform(low=0, high=1, size=(5,2))))\n",
    "\n",
    "# Print the new values then evaluate the previously built expression and print:\n",
    "print(a_t.get_value())\n",
    "print(b_t.get_value())\n",
    "print(ab_t.eval())"
   ]
  },
  {
   "cell_type": "markdown",
   "metadata": {},
   "source": [
    "## Variables and functions"
   ]
  },
  {
   "cell_type": "code",
   "execution_count": 17,
   "metadata": {
    "collapsed": false
   },
   "outputs": [
    {
     "name": "stdout",
     "output_type": "stream",
     "text": [
      "[[ 0.74771482  0.96130675  0.0083883   0.10644437  0.2987037 ]\n",
      " [ 0.65641117  0.80981255  0.87217593  0.96464759  0.72368532]\n",
      " [ 0.64247531  0.7174536   0.467599    0.32558468  0.4396446 ]\n",
      " [ 0.72968906  0.99401456  0.67687368  0.79082251  0.17091426]\n",
      " [ 0.02684928  0.80037022  0.90372252  0.02467621  0.49174732]\n",
      " [ 0.52625519  0.59636599  0.05195754  0.89508951  0.72826618]\n",
      " [ 0.81835002  0.50022274  0.81018943  0.09596852  0.21895005]\n",
      " [ 0.25871906  0.46810576  0.45937321  0.70950979  0.17805301]\n",
      " [ 0.53144991  0.16774222  0.76881391  0.92817056  0.60949367]\n",
      " [ 0.1501835   0.48962671  0.37734497  0.8486014   0.91109723]]\n",
      "[[ 0.13432553  0.76851845]\n",
      " [ 2.81232309  3.2601366 ]\n",
      " [ 1.43153965  1.84846342]\n",
      " [ 1.71037173  2.01665854]\n",
      " [ 2.29757953  2.00904632]\n",
      " [ 1.02733076  1.85243356]\n",
      " [ 1.95351088  2.15374279]\n",
      " [ 1.32819879  1.44413781]\n",
      " [ 2.62176204  3.00520468]\n",
      " [ 1.93041217  2.39455056]]\n"
     ]
    }
   ],
   "source": [
    "# Seeded random number generator\n",
    "rng = np.random.RandomState(12345)\n",
    "\n",
    "# Create a 2D variable; use the matrix constructor\n",
    "x = T.matrix('x')\n",
    "\n",
    "# Weights and biases of 5-channel input, 2-channel output\n",
    "# linear model as shared data\n",
    "W = theano.shared(floatX(rng.normal(0.25, size=(5,2))))\n",
    "b = theano.shared(floatX(np.zeros((2,))))\n",
    "\n",
    "# Linear model\n",
    "linear = T.dot(x, W) + b\n",
    "\n",
    "# Evaluation function\n",
    "eval_linear = theano.function([x], linear)\n",
    "\n",
    "# Test it:\n",
    "test_data = floatX(rng.uniform(0, 1, (10,5)))\n",
    "print(test_data)\n",
    "print(eval_linear(test_data))"
   ]
  }
 ],
 "metadata": {
  "kernelspec": {
   "display_name": "Python 2",
   "language": "python",
   "name": "python2"
  },
  "language_info": {
   "codemirror_mode": {
    "name": "ipython",
    "version": 2
   },
   "file_extension": ".py",
   "mimetype": "text/x-python",
   "name": "python",
   "nbconvert_exporter": "python",
   "pygments_lexer": "ipython2",
   "version": "2.7.11"
  }
 },
 "nbformat": 4,
 "nbformat_minor": 0
}
